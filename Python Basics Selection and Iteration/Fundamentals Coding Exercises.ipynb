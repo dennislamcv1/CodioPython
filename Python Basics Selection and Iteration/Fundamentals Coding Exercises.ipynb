{
 "cells": [
  {
   "cell_type": "markdown",
   "id": "be92f5a3",
   "metadata": {},
   "source": [
    "Declare a variable my_boolean and assign it the boolean value of true. Print the variable."
   ]
  },
  {
   "cell_type": "code",
   "execution_count": 1,
   "id": "29774626",
   "metadata": {},
   "outputs": [
    {
     "name": "stdout",
     "output_type": "stream",
     "text": [
      "True\n"
     ]
    }
   ],
   "source": [
    "my_boolean = True\n",
    "print(my_boolean)"
   ]
  },
  {
   "cell_type": "markdown",
   "id": "b56858c2",
   "metadata": {},
   "source": [
    "Declare a variable my_int and assign it the integer value of 3. Print the variable."
   ]
  },
  {
   "cell_type": "code",
   "execution_count": 2,
   "id": "fc2df854",
   "metadata": {},
   "outputs": [
    {
     "name": "stdout",
     "output_type": "stream",
     "text": [
      "3\n"
     ]
    }
   ],
   "source": [
    "my_int = 3\n",
    "print(my_int)"
   ]
  },
  {
   "cell_type": "markdown",
   "id": "21e0173a",
   "metadata": {},
   "source": [
    "Declare a variable my_string and assign it the string value of:\n",
    "\n",
    "This is a string\n",
    "\n",
    "Print the variable."
   ]
  },
  {
   "cell_type": "code",
   "execution_count": 3,
   "id": "5217460d",
   "metadata": {},
   "outputs": [
    {
     "name": "stdout",
     "output_type": "stream",
     "text": [
      "This is a string\n"
     ]
    }
   ],
   "source": [
    "my_string = \"This is a string\"\n",
    "print(my_string)"
   ]
  },
  {
   "cell_type": "markdown",
   "id": "77beb23e",
   "metadata": {},
   "source": [
    "Declare a variable my_float and assign it the floating point value of 3.0. Print the variable."
   ]
  },
  {
   "cell_type": "code",
   "execution_count": 4,
   "id": "62538212",
   "metadata": {},
   "outputs": [
    {
     "name": "stdout",
     "output_type": "stream",
     "text": [
      "3.0\n"
     ]
    }
   ],
   "source": [
    "my_float = 3.0\n",
    "print(my_float)"
   ]
  },
  {
   "cell_type": "markdown",
   "id": "0e37f90b",
   "metadata": {},
   "source": [
    "Use two print statements to write the following string:\n",
    "\n",
    "Okay, it is time to learn about operators."
   ]
  },
  {
   "cell_type": "code",
   "execution_count": 5,
   "id": "85a9245f",
   "metadata": {},
   "outputs": [
    {
     "name": "stdout",
     "output_type": "stream",
     "text": [
      "Okay, it is time to learn about operators.\n"
     ]
    }
   ],
   "source": [
    "print(\"Okay,\", end='')\n",
    "print(\" it is time to learn about operators.\")"
   ]
  },
  {
   "cell_type": "code",
   "execution_count": null,
   "id": "854fe64b",
   "metadata": {},
   "outputs": [],
   "source": []
  }
 ],
 "metadata": {
  "kernelspec": {
   "display_name": "Python 3 (ipykernel)",
   "language": "python",
   "name": "python3"
  },
  "language_info": {
   "codemirror_mode": {
    "name": "ipython",
    "version": 3
   },
   "file_extension": ".py",
   "mimetype": "text/x-python",
   "name": "python",
   "nbconvert_exporter": "python",
   "pygments_lexer": "ipython3",
   "version": "3.9.12"
  }
 },
 "nbformat": 4,
 "nbformat_minor": 5
}
