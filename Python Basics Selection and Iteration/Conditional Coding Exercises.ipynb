{
 "cells": [
  {
   "cell_type": "markdown",
   "id": "26f76b5d",
   "metadata": {},
   "source": [
    "Use the variable x as you write this program. x will represent a positive integer. Write a program that determines if x is between 0 and 25 or between 75 and 100. If yes, print the message:_ is between 0 and 25 or 75 and 100, where the blank would be the value of x. The program should do nothing if the value of x does not fit into either range."
   ]
  },
  {
   "cell_type": "code",
   "execution_count": 1,
   "id": "b0132e63",
   "metadata": {},
   "outputs": [],
   "source": [
    "import sys"
   ]
  },
  {
   "cell_type": "code",
   "execution_count": 2,
   "id": "b016a6b6",
   "metadata": {},
   "outputs": [],
   "source": [
    "x = 50"
   ]
  },
  {
   "cell_type": "code",
   "execution_count": 3,
   "id": "4e29f930",
   "metadata": {},
   "outputs": [
    {
     "name": "stdout",
     "output_type": "stream",
     "text": [
      "\n"
     ]
    }
   ],
   "source": [
    "if (0 < x < 25) | (75 < x < 100):\n",
    "    print( x, \"is between 0 and 25 or 75 and 100\")\n",
    "else:\n",
    "    print('')"
   ]
  },
  {
   "cell_type": "markdown",
   "id": "a7fa2735",
   "metadata": {},
   "source": [
    "Use the variable x as you write this program. x will represent a positive integer. Write a program that determines if x is divisible by 5. If yes, print _ is divisible by 5, where the blank is the value of x. If no, print _ is not divisible by 5, where the blank is the value of x"
   ]
  },
  {
   "cell_type": "code",
   "execution_count": 4,
   "id": "f829ec48",
   "metadata": {},
   "outputs": [],
   "source": [
    "x = 50"
   ]
  },
  {
   "cell_type": "code",
   "execution_count": 5,
   "id": "ca3b0717",
   "metadata": {},
   "outputs": [
    {
     "name": "stdout",
     "output_type": "stream",
     "text": [
      "50 is divisible by 5\n"
     ]
    }
   ],
   "source": [
    "if x % 5 == 0:\n",
    "    print(str(x) + \" is divisible by 5\")\n",
    "else:\n",
    "    print(str(x) + \" is not divisible by 5\")"
   ]
  },
  {
   "cell_type": "markdown",
   "id": "537bb210",
   "metadata": {},
   "source": [
    "Use the variable x as you write this program. x will represent a positive integer. Write a program that determines if x is divisible by 5 and even. If yes, print _ is divisible by 5 and even, where the blank is the value of x. If no, print _ is not divisible by 5 or it is odd, where the blank is the value of x"
   ]
  },
  {
   "cell_type": "code",
   "execution_count": 6,
   "id": "25229c31",
   "metadata": {},
   "outputs": [],
   "source": [
    "x = 37"
   ]
  },
  {
   "cell_type": "code",
   "execution_count": 7,
   "id": "3b6123c0",
   "metadata": {},
   "outputs": [
    {
     "name": "stdout",
     "output_type": "stream",
     "text": [
      "37 is not divisible by 5 or it is odd\n"
     ]
    }
   ],
   "source": [
    "if (x % 5 == 0) & (x % 2 == 0):\n",
    "    print(str(x) + \" is divisible by 5 and even\")\n",
    "else:\n",
    "    print(str(x) + \" is not divisible by 5 or it is odd\")"
   ]
  },
  {
   "cell_type": "markdown",
   "id": "791c37dc",
   "metadata": {},
   "source": [
    "Use the variable x as you write this program. x will represent a string. Write a program using the elif keyword that determines if x is a primary color (red, blue, or yellow). If yes, print _ is primary color, where the blank is the value of x. If no, print _ is not a primary color, where the blank is the value of x"
   ]
  },
  {
   "cell_type": "code",
   "execution_count": 8,
   "id": "bc95f91a",
   "metadata": {},
   "outputs": [],
   "source": [
    "x = \"red\""
   ]
  },
  {
   "cell_type": "code",
   "execution_count": 9,
   "id": "7d160a02",
   "metadata": {},
   "outputs": [
    {
     "name": "stdout",
     "output_type": "stream",
     "text": [
      "red is a primary color\n"
     ]
    }
   ],
   "source": [
    "if (x == \"red\"):\n",
    "    print(x, \"is a primary color\")\n",
    "elif (x == \"blue\"):\n",
    "    print(x, \"is a primary color\")\n",
    "elif (x == \"yellow\"):\n",
    "    print(x, \"is a primary color\")\n",
    "else:\n",
    "    print(x, \"is not a primary color\")"
   ]
  },
  {
   "cell_type": "markdown",
   "id": "eed71e17",
   "metadata": {},
   "source": [
    "Use the variable x as you write this program. x will represent a string. Write a program that determines if x is a vowel (a, e, i, o, and u ). If yes, print _ is a vowel, where the blank is the value of x. If no, print _ is not a vowel, where the blank is the value of x"
   ]
  },
  {
   "cell_type": "code",
   "execution_count": 10,
   "id": "b71c989d",
   "metadata": {},
   "outputs": [],
   "source": [
    "x = \"a\""
   ]
  },
  {
   "cell_type": "code",
   "execution_count": 11,
   "id": "f504abb1",
   "metadata": {},
   "outputs": [
    {
     "name": "stdout",
     "output_type": "stream",
     "text": [
      "a is a vowel\n"
     ]
    }
   ],
   "source": [
    "if (x == \"a\"):\n",
    "    print(x, \"is a vowel\")\n",
    "elif (x == \"e\"):\n",
    "    print(x, \"is a vowel\")\n",
    "elif (x == \"i\"):\n",
    "    print(x, \"is a vowel\")\n",
    "elif (x == \"o\"):\n",
    "    print(x, \"is a vowel\")\n",
    "elif (x == \"u\"):\n",
    "    print(x, \"is a vowel\")\n",
    "else:\n",
    "    print(x, \"is not a vowel\")"
   ]
  },
  {
   "cell_type": "code",
   "execution_count": null,
   "id": "3a552f6b",
   "metadata": {},
   "outputs": [],
   "source": []
  }
 ],
 "metadata": {
  "kernelspec": {
   "display_name": "Python 3 (ipykernel)",
   "language": "python",
   "name": "python3"
  },
  "language_info": {
   "codemirror_mode": {
    "name": "ipython",
    "version": 3
   },
   "file_extension": ".py",
   "mimetype": "text/x-python",
   "name": "python",
   "nbconvert_exporter": "python",
   "pygments_lexer": "ipython3",
   "version": "3.9.12"
  }
 },
 "nbformat": 4,
 "nbformat_minor": 5
}
