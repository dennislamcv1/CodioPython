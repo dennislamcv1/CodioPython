{
 "cells": [
  {
   "cell_type": "markdown",
   "id": "46ffc44c",
   "metadata": {},
   "source": [
    "Imagine that you have a Turtle object called t. You want it to draw the triangle below. What are the commands that would go inside of the loop to draw the triangle?"
   ]
  },
  {
   "cell_type": "code",
   "execution_count": null,
   "id": "d7f4ab8f",
   "metadata": {},
   "outputs": [],
   "source": [
    "t.forward(100)\n",
    "t.lt(120)\n"
   ]
  },
  {
   "cell_type": "markdown",
   "id": "1b018926",
   "metadata": {},
   "source": [
    "From the code blocks below, create a while loop that will iterate ten times. Note: not all code blocks will be used."
   ]
  },
  {
   "cell_type": "code",
   "execution_count": null,
   "id": "0c965618",
   "metadata": {},
   "outputs": [],
   "source": [
    "count = 0\n",
    "while count < 10:\n",
    "    count = count + 1\n"
   ]
  },
  {
   "cell_type": "markdown",
   "id": "35cd0711",
   "metadata": {},
   "source": [
    "Using while True:, create a loop that prints the sum of all the numbers between 0 and 100. "
   ]
  },
  {
   "cell_type": "code",
   "execution_count": null,
   "id": "9c8aaac4",
   "metadata": {},
   "outputs": [],
   "source": [
    "total = 0\n",
    "count = 0\n",
    "while True:\n",
    "  if count > 100:\n",
    "    break\n",
    "  else:\n",
    "    total = total + count\n",
    "    count += 1\n",
    "print(total)\n"
   ]
  },
  {
   "cell_type": "markdown",
   "id": "d2acabb2",
   "metadata": {},
   "source": [
    "Rearrange the code blocks below so that their output would be the image above. If you need to practice, use the code editor to the left and press the TRY IT button to see your output in the tab entitled Preview https:/..."
   ]
  },
  {
   "cell_type": "code",
   "execution_count": null,
   "id": "6fb8ffd3",
   "metadata": {},
   "outputs": [],
   "source": [
    "import turtle # keep this line of code\n",
    "\n",
    "t = turtle.Turtle() # keep this line of code\n"
   ]
  },
  {
   "cell_type": "code",
   "execution_count": null,
   "id": "d26157cb",
   "metadata": {},
   "outputs": [],
   "source": [
    "for outer_loop in range(4):\n",
    "    for inner_loop in range(4):\n",
    "        t.forward(50)\n",
    "        t.rt(90)\n",
    "    t.forward(100)\n",
    "for last_loop in range(4):\n",
    "        t.forward(50)\n",
    "        t.rt(90)\n"
   ]
  },
  {
   "cell_type": "markdown",
   "id": "97068c28",
   "metadata": {},
   "source": [
    "Create a nested loop that produces the output below.\n",
    "\n",
    "....1\n",
    "...2\n",
    "..3\n",
    ".4\n",
    "5\n"
   ]
  },
  {
   "cell_type": "code",
   "execution_count": 1,
   "id": "ee80605d",
   "metadata": {},
   "outputs": [
    {
     "name": "stdout",
     "output_type": "stream",
     "text": [
      "....1\n",
      "...2\n",
      "..3\n",
      ".4\n",
      "5\n"
     ]
    }
   ],
   "source": [
    "for num in range(1,6):\n",
    "  for dots in range(5-num, 0, -1):\n",
    "    print(\".\", end='')\n",
    "  print(num)\n"
   ]
  },
  {
   "cell_type": "code",
   "execution_count": null,
   "id": "8c7a73f7",
   "metadata": {},
   "outputs": [],
   "source": []
  }
 ],
 "metadata": {
  "kernelspec": {
   "display_name": "Python 3 (ipykernel)",
   "language": "python",
   "name": "python3"
  },
  "language_info": {
   "codemirror_mode": {
    "name": "ipython",
    "version": 3
   },
   "file_extension": ".py",
   "mimetype": "text/x-python",
   "name": "python",
   "nbconvert_exporter": "python",
   "pygments_lexer": "ipython3",
   "version": "3.9.12"
  }
 },
 "nbformat": 4,
 "nbformat_minor": 5
}
