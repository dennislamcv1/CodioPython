{
 "cells": [
  {
   "cell_type": "markdown",
   "id": "97b3b0f3",
   "metadata": {},
   "source": [
    "What are the values of a and b such that the following expression is true?"
   ]
  },
  {
   "cell_type": "code",
   "execution_count": 1,
   "id": "6499d179",
   "metadata": {},
   "outputs": [
    {
     "data": {
      "text/plain": [
       "17.0"
      ]
     },
     "execution_count": 1,
     "metadata": {},
     "output_type": "execute_result"
    }
   ],
   "source": [
    "a = 4\n",
    "b = 9\n",
    "a * 3 + b - 8 / 2"
   ]
  },
  {
   "cell_type": "markdown",
   "id": "f932e219",
   "metadata": {},
   "source": [
    "Given the variables below, determine which print statement would return False\n",
    "\n"
   ]
  },
  {
   "cell_type": "code",
   "execution_count": 2,
   "id": "56371ac6",
   "metadata": {},
   "outputs": [],
   "source": [
    "a = True or False\n",
    "b = False and True\n",
    "c = False and False"
   ]
  },
  {
   "cell_type": "code",
   "execution_count": 3,
   "id": "8396635f",
   "metadata": {},
   "outputs": [
    {
     "name": "stdout",
     "output_type": "stream",
     "text": [
      "False\n"
     ]
    }
   ],
   "source": [
    "print(not b and not a or not not c)"
   ]
  },
  {
   "cell_type": "markdown",
   "id": "404aef29",
   "metadata": {},
   "source": [
    "Write a program that outputs Hello world. Your program must do the following things:"
   ]
  },
  {
   "cell_type": "code",
   "execution_count": 4,
   "id": "4bc58c87",
   "metadata": {},
   "outputs": [],
   "source": [
    "first = \"Hello\"\n",
    "second = \"world\""
   ]
  },
  {
   "cell_type": "code",
   "execution_count": 5,
   "id": "3fc1a5e7",
   "metadata": {},
   "outputs": [
    {
     "name": "stdout",
     "output_type": "stream",
     "text": [
      "Hello world\n"
     ]
    }
   ],
   "source": [
    "print(first+' '+second)"
   ]
  },
  {
   "cell_type": "markdown",
   "id": "865fe4c3",
   "metadata": {},
   "source": [
    "Write a program that divides 7 by 2, but prints 3"
   ]
  },
  {
   "cell_type": "code",
   "execution_count": 6,
   "id": "805b5054",
   "metadata": {},
   "outputs": [
    {
     "name": "stdout",
     "output_type": "stream",
     "text": [
      "3\n"
     ]
    }
   ],
   "source": [
    "print(7//2)"
   ]
  },
  {
   "cell_type": "markdown",
   "id": "b9f1e0f3",
   "metadata": {},
   "source": [
    "Declare the variable a with the value 3.0. Declare the variable b with the value \"2\". Print a plus b, but have the output be 5"
   ]
  },
  {
   "cell_type": "code",
   "execution_count": 7,
   "id": "3aef32e9",
   "metadata": {},
   "outputs": [],
   "source": [
    "a = 3.0\n",
    "b = \"2\""
   ]
  },
  {
   "cell_type": "code",
   "execution_count": 8,
   "id": "0c78fc9d",
   "metadata": {},
   "outputs": [
    {
     "name": "stdout",
     "output_type": "stream",
     "text": [
      "5\n"
     ]
    }
   ],
   "source": [
    "print(int(a)+int(b))"
   ]
  },
  {
   "cell_type": "code",
   "execution_count": null,
   "id": "5adb6c8c",
   "metadata": {},
   "outputs": [],
   "source": []
  }
 ],
 "metadata": {
  "kernelspec": {
   "display_name": "Python 3 (ipykernel)",
   "language": "python",
   "name": "python3"
  },
  "language_info": {
   "codemirror_mode": {
    "name": "ipython",
    "version": 3
   },
   "file_extension": ".py",
   "mimetype": "text/x-python",
   "name": "python",
   "nbconvert_exporter": "python",
   "pygments_lexer": "ipython3",
   "version": "3.9.12"
  }
 },
 "nbformat": 4,
 "nbformat_minor": 5
}
