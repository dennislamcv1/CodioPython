{
 "cells": [
  {
   "cell_type": "markdown",
   "id": "bb960891",
   "metadata": {},
   "source": [
    "Define the class PracticeClass. This class should not have a constructor or any attributes (instance variables). Test your code with the TRY IT button below before submitting your work."
   ]
  },
  {
   "cell_type": "code",
   "execution_count": 1,
   "id": "c25a13a4",
   "metadata": {},
   "outputs": [],
   "source": [
    "class PracticeClass:\n",
    "  pass\n"
   ]
  },
  {
   "cell_type": "markdown",
   "id": "51617876",
   "metadata": {},
   "source": [
    "Define the class Cat. The class should have a constructor but without any parameters. The constructor will generate the following attributes."
   ]
  },
  {
   "cell_type": "code",
   "execution_count": 2,
   "id": "f6ddfa4c",
   "metadata": {},
   "outputs": [],
   "source": [
    "class Cat:\n",
    "  def __init__(self):\n",
    "    self.breed = \"american shorthair\"\n",
    "    self.color= \"black\"\n",
    "    self.name = \"kiwi\"\n"
   ]
  },
  {
   "cell_type": "markdown",
   "id": "bf40c323",
   "metadata": {},
   "source": [
    "Define the class SuperHero. The class should have a constructor that accepts the following parameters (in this order)"
   ]
  },
  {
   "cell_type": "code",
   "execution_count": 3,
   "id": "c5c0c40c",
   "metadata": {},
   "outputs": [],
   "source": [
    "class SuperHero:\n",
    "  def __init__(self, name, secret_identity, powers):\n",
    "    self.name = name\n",
    "    self.secret_identity = secret_identity\n",
    "    self.powers = powers\n"
   ]
  },
  {
   "cell_type": "markdown",
   "id": "cb2195ce",
   "metadata": {},
   "source": [
    "Define the class Observation which will help record observational data from a scientific outpost in Antarctica. The class should have a constructor that accepts parameters for date, temperature, elevation, precipitation, and penguins. Since Antarctica is a desert, precipitation should default to 0."
   ]
  },
  {
   "cell_type": "code",
   "execution_count": 4,
   "id": "261395a3",
   "metadata": {},
   "outputs": [],
   "source": [
    "class Observation:\n",
    "  def __init__(self, date, temperature, elevation, penguins, precipitation=0):\n",
    "    self.date = date\n",
    "    self.temperature = temperature\n",
    "    self.elevation = elevation\n",
    "    self.penguins = penguins\n",
    "    self.precipitation = precipitation\n"
   ]
  },
  {
   "cell_type": "markdown",
   "id": "18a04419",
   "metadata": {},
   "source": [
    "Define the class BigCat which will help record information on the animals in the Panthera genus (tiger, lion, jaguar, leopard, and snow leopard). Since all animals are in the same genus, the object should have the class attribute genus with the value panthera. The constructor should accept the following parameters (in this order)"
   ]
  },
  {
   "cell_type": "code",
   "execution_count": 5,
   "id": "b9a668ea",
   "metadata": {},
   "outputs": [],
   "source": [
    "class BigCat:\n",
    "  genus = \"panthera\"\n",
    "  def __init__(self, species, common_name, habitat):\n",
    "    self.species = species\n",
    "    self.common_name = common_name\n",
    "    self.habitat = habitat\n"
   ]
  },
  {
   "cell_type": "code",
   "execution_count": null,
   "id": "2fead222",
   "metadata": {},
   "outputs": [],
   "source": []
  }
 ],
 "metadata": {
  "kernelspec": {
   "display_name": "Python 3 (ipykernel)",
   "language": "python",
   "name": "python3"
  },
  "language_info": {
   "codemirror_mode": {
    "name": "ipython",
    "version": 3
   },
   "file_extension": ".py",
   "mimetype": "text/x-python",
   "name": "python",
   "nbconvert_exporter": "python",
   "pygments_lexer": "ipython3",
   "version": "3.9.12"
  }
 },
 "nbformat": 4,
 "nbformat_minor": 5
}
