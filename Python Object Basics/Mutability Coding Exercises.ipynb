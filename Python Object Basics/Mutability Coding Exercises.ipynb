{
 "cells": [
  {
   "cell_type": "markdown",
   "id": "5d30e663",
   "metadata": {},
   "source": [
    "The code below creates the CelestialBody class as well as the function compared_to_earth. Transform the compared_to_earth function so that it becomes an instance method of the CelestialBody class"
   ]
  },
  {
   "cell_type": "code",
   "execution_count": 1,
   "id": "b8958310",
   "metadata": {},
   "outputs": [
    {
     "name": "stdout",
     "output_type": "stream",
     "text": [
      "11.208892860782516\n"
     ]
    }
   ],
   "source": [
    "class CelestialBody:\n",
    "    \"\"\"Represents a celestial body\"\"\"\n",
    "    def __init__(self, name, diameter, distance, moons):\n",
    "        self.name = name\n",
    "        self.diameter = diameter\n",
    "        self.distance = distance\n",
    "        self.moons = moons\n",
    "            \n",
    "    def compared_to_earth(self):\n",
    "        \"\"\"Determines the size of a celestial\n",
    "        body relative to Earth using diameter\"\"\"\n",
    "        earth = 12756.3\n",
    "        relative_size = self.diameter / earth\n",
    "        return relative_size\n",
    "\n",
    "planet = CelestialBody(\"Jupiter\", 142984, 778360000, 79)\n",
    "\n",
    "print(CelestialBody.compared_to_earth(planet))"
   ]
  },
  {
   "cell_type": "markdown",
   "id": "5113c1be",
   "metadata": {},
   "source": [
    "Using the same CelestialBody class, write a static method closer_to_sun that compares two CelectialBody objects and returns the name of the object that is closes to the sun."
   ]
  },
  {
   "cell_type": "code",
   "execution_count": 2,
   "id": "0caf354d",
   "metadata": {},
   "outputs": [
    {
     "name": "stdout",
     "output_type": "stream",
     "text": [
      "Mercury\n"
     ]
    }
   ],
   "source": [
    "class CelestialBody:\n",
    "        \n",
    "    \"\"\"Represents a celestial body\"\"\"\n",
    "    def __init__(self, name, diameter, distance, moons):\n",
    "        self.name = name\n",
    "        self.diameter = diameter\n",
    "        self.distance = distance\n",
    "        self.moons = moons\n",
    "    \n",
    " \n",
    "    \n",
    "    @staticmethod\n",
    "    def closer_to_sun(body1, body2):\n",
    "        \"\"\"Returns the name of the body that is closest to the sun\"\"\"\n",
    "        if body1.distance < body2.distance:\n",
    "            return body1.name\n",
    "        else:\n",
    "            return body2.name    \n",
    "        \n",
    "\n",
    "#print(CelestialBody.__dict__)    \n",
    "\n",
    "mercury = CelestialBody(\"Mercury\", 4879.4, 57909000, 0)\n",
    "venus = CelestialBody(\"Venus\", 12103.6, 108160000, 0)   \n",
    "\n",
    "print(CelestialBody.closer_to_sun(mercury,venus))"
   ]
  },
  {
   "cell_type": "code",
   "execution_count": null,
   "id": "3a3d07db",
   "metadata": {},
   "outputs": [],
   "source": []
  },
  {
   "cell_type": "markdown",
   "id": "5030a2d0",
   "metadata": {},
   "source": [
    "Using the same CelestialBody class, create a factory method called make_earth. This method returns a CelestialBody object for planet Earth. Earth is 149,600,000 km from the Sun, has a diameter of 12,756.3 km, and has one moon."
   ]
  },
  {
   "cell_type": "code",
   "execution_count": 3,
   "id": "75c70f0d",
   "metadata": {},
   "outputs": [],
   "source": [
    "class CelestialBody:\n",
    "    \n",
    "    \"\"\"Represents a celestial body\"\"\"\n",
    "    def __init__(self, name, diameter, distance, moons):\n",
    "        self.name = name\n",
    "        self.diameter = diameter\n",
    "        self.distance = distance\n",
    "        self.moons = moons\n",
    "\n",
    "    @classmethod\n",
    "    def make_earth(cls):\n",
    "        return CelestialBody(\"Earth\", 12756.3, 149600000, 1)\n"
   ]
  },
  {
   "cell_type": "code",
   "execution_count": 4,
   "id": "f3808f32",
   "metadata": {},
   "outputs": [
    {
     "data": {
      "text/plain": [
       "<__main__.CelestialBody at 0x223213cb820>"
      ]
     },
     "execution_count": 4,
     "metadata": {},
     "output_type": "execute_result"
    }
   ],
   "source": [
    "CelestialBody.make_earth()"
   ]
  },
  {
   "cell_type": "markdown",
   "id": "96fc7de8",
   "metadata": {},
   "source": [
    "Use the Library class below for this coding exercise."
   ]
  },
  {
   "cell_type": "code",
   "execution_count": 5,
   "id": "8c97710c",
   "metadata": {},
   "outputs": [],
   "source": [
    "class Library:\n",
    "    \"\"\"List of available books and list of books on loan\"\"\"\n",
    "    def __init__(self):\n",
    "        self.available = []\n",
    "        self.on_loan = []\n",
    "\n",
    "\n",
    "    def add_books(self, books):\n",
    "        \"\"\"Add each book to the list of available books\"\"\"\n",
    "        for book in books:\n",
    "            self.available.append(book)\n",
    "\n",
    "    def borrow_book(self, book):\n",
    "        \"\"\"Remove book from available list and add to on loan list\"\"\"\n",
    "        self.available.remove(book)\n",
    "        self.on_loan.append(book)\n",
    "\n",
    "    def return_book(self, book):\n",
    "        \"\"\"Remove book from on loan list and add to availabe list\"\"\"\n",
    "        self.on_loan.remove(book)\n",
    "        self.available.append(book)\n"
   ]
  },
  {
   "cell_type": "markdown",
   "id": "36ed0150",
   "metadata": {},
   "source": [
    "Use the Subway class below to help solve these problems."
   ]
  },
  {
   "cell_type": "code",
   "execution_count": 6,
   "id": "098be68c",
   "metadata": {},
   "outputs": [],
   "source": [
    "class Subway:\n",
    "    \n",
    "    fare = 2.4\n",
    "    \n",
    "    def __init__(self):\n",
    "        self.stops = [\"Alewife\", \"Davis\", \"Porter\", \"Harvard\", \"Central\", \"Kendall\"]\n",
    "        self.current_stop= \"Alewife\"\n",
    "        self.direction = \"south\"\n",
    "        self.passengers = 0\n",
    "        self.total_fares = 0\n",
    " \n",
    "    \n",
    "    @classmethod\n",
    "    def change_fare(cls, new_fare):\n",
    "        \"\"\"Change fare for all instances of Subway class\"\"\"\n",
    "        Subway.fare = new_fare\n",
    "\n",
    "    \n",
    "    def board(self, new_passengers):\n",
    "        \"\"\"Adds the number of people boarding the subway. Also adds to total_fares for the new passengers\"\"\"\n",
    "        self.passengers += new_passengers\n",
    "        self.total_fares += new_passengers * Subway.fare\n",
    "\n",
    "    def disembark(self, passengers_leaving):\n",
    "        \"\"\"Subtracts the number of people exiting the subway\"\"\"\n",
    "        if passengers_leaving > self.passengers:\n",
    "            self.passengers = 0\n",
    "        else:\n",
    "            self.passengers -= passengers_leaving\n",
    "\n",
    "    def advance(self):\n",
    "        \"\"\"Advances the subway to the next stop\"\"\"\n",
    "        current_index = self.stops.index(self.current_stop)\n",
    "        if self.direction == \"south\":\n",
    "            if self.current_stop == \"Kendall\":\n",
    "                self.current_stop = \"Central\"\n",
    "                self.direction = \"north\"\n",
    "            else:\n",
    "                self.current_stop = self.stops[current_index + 1]\n",
    "        else:\n",
    "            if self.current_stop == \"Alewife\":\n",
    "                self.current_stop = \"Davis\"\n",
    "                self.direction = \"south\"\n",
    "            else:\n",
    "                self.current_stop = self.stops[current_index - 1]\n",
    "\n",
    "    def distance(self, desired_stop):\n",
    "        \"\"\"Returns the number of stops between the current location and the desired stop\"\"\"\n",
    "        current_index = self.stops.index(self.current_stop)\n",
    "        desired_index = self.stops.index(desired_stop)\n",
    "        return abs(current_index - desired_index)\n"
   ]
  },
  {
   "cell_type": "code",
   "execution_count": null,
   "id": "775415aa",
   "metadata": {},
   "outputs": [],
   "source": []
  }
 ],
 "metadata": {
  "kernelspec": {
   "display_name": "Python 3 (ipykernel)",
   "language": "python",
   "name": "python3"
  },
  "language_info": {
   "codemirror_mode": {
    "name": "ipython",
    "version": 3
   },
   "file_extension": ".py",
   "mimetype": "text/x-python",
   "name": "python",
   "nbconvert_exporter": "python",
   "pygments_lexer": "ipython3",
   "version": "3.9.12"
  }
 },
 "nbformat": 4,
 "nbformat_minor": 5
}
