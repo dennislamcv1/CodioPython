{
 "cells": [
  {
   "cell_type": "markdown",
   "id": "1e15f905",
   "metadata": {},
   "source": [
    "Write a recursive function called recursive_sum that takes an integer as a parameter. Return the sum of all integers between 0 and the number passed to recursive_sum."
   ]
  },
  {
   "cell_type": "code",
   "execution_count": 1,
   "id": "7138f126",
   "metadata": {},
   "outputs": [
    {
     "name": "stdout",
     "output_type": "stream",
     "text": [
      "153\n"
     ]
    }
   ],
   "source": [
    "def recursive_sum(num):\n",
    "    \"\"\"Recursively calculate sum from 0 to the parameter\"\"\"\n",
    "    if num == 0:\n",
    "        return 0\n",
    "    else:\n",
    "        return num + recursive_sum(num - 1)\n",
    "        \n",
    "print(recursive_sum(17))"
   ]
  },
  {
   "cell_type": "markdown",
   "id": "cb982fe9",
   "metadata": {},
   "source": [
    "Write a recursive function called list_sum that takes a list of numbers as a parameter. Return the sum of all of the numbers in the list. Hint, the slice operator will be helpful in solving this problem."
   ]
  },
  {
   "cell_type": "code",
   "execution_count": 2,
   "id": "0d3445c7",
   "metadata": {},
   "outputs": [],
   "source": [
    "def list_sum(my_list):\n",
    "    \"\"\"Recursively calculate the sum of a list of numbers\"\"\"\n",
    "    if len(my_list) == 1:\n",
    "        return my_list[0]\n",
    "    else:\n",
    "        return my_list[0] + list_sum(my_list[1:])"
   ]
  },
  {
   "cell_type": "code",
   "execution_count": 3,
   "id": "1b86e6ed",
   "metadata": {},
   "outputs": [
    {
     "data": {
      "text/plain": [
       "15"
      ]
     },
     "execution_count": 3,
     "metadata": {},
     "output_type": "execute_result"
    }
   ],
   "source": [
    "list_sum([1, 2, 3, 4, 5])"
   ]
  },
  {
   "cell_type": "markdown",
   "id": "8d44bfcc",
   "metadata": {},
   "source": [
    "Write a recursive function called bunny_ears that takes the number of bunnies (an integer) as a parameter. Return the number of bunny ears (2 per bunny). Do not use multiplication; instead use addition."
   ]
  },
  {
   "cell_type": "code",
   "execution_count": 4,
   "id": "c16a668a",
   "metadata": {},
   "outputs": [],
   "source": [
    "def bunny_ears(bunnies):\n",
    "    \"\"\"Recursively determine the number of bunny ears (2 per bunny)\"\"\"\n",
    "    if bunnies == 0:\n",
    "        return 0\n",
    "    else:\n",
    "        return 2 + bunny_ears(bunnies - 1)"
   ]
  },
  {
   "cell_type": "code",
   "execution_count": 5,
   "id": "2e42b89d",
   "metadata": {},
   "outputs": [
    {
     "data": {
      "text/plain": [
       "16"
      ]
     },
     "execution_count": 5,
     "metadata": {},
     "output_type": "execute_result"
    }
   ],
   "source": [
    "bunny_ears(8)"
   ]
  },
  {
   "cell_type": "markdown",
   "id": "d6b8b674",
   "metadata": {},
   "source": [
    "Write a recursive function called reverse_string that takes a string as a parameter. Return the string in reverse order. Hint, the slice operator will be helpful when solving this problem."
   ]
  },
  {
   "cell_type": "code",
   "execution_count": 6,
   "id": "01f040d5",
   "metadata": {},
   "outputs": [],
   "source": [
    "def reverse_string(word):\n",
    "    if len(word) == 1:\n",
    "        return word[0]\n",
    "    else:\n",
    "        return word[-1] + reverse_string(word[:-1])"
   ]
  },
  {
   "cell_type": "code",
   "execution_count": 7,
   "id": "e4d11024",
   "metadata": {},
   "outputs": [
    {
     "data": {
      "text/plain": [
       "'tac'"
      ]
     },
     "execution_count": 7,
     "metadata": {},
     "output_type": "execute_result"
    }
   ],
   "source": [
    "reverse_string(\"cat\")"
   ]
  },
  {
   "cell_type": "markdown",
   "id": "107e7625",
   "metadata": {},
   "source": [
    "Write a recursive function called get_max that takes a list of numbers as a parameter. Return the largest number in the list."
   ]
  },
  {
   "cell_type": "code",
   "execution_count": 8,
   "id": "5ffe30a6",
   "metadata": {},
   "outputs": [],
   "source": [
    "def get_max(nums):\n",
    "    if len(nums) == 1:\n",
    "        return nums[0]\n",
    "    else:\n",
    "        return max(nums[0], get_max(nums[1:]))"
   ]
  },
  {
   "cell_type": "code",
   "execution_count": 9,
   "id": "8765be3a",
   "metadata": {},
   "outputs": [
    {
     "data": {
      "text/plain": [
       "5"
      ]
     },
     "execution_count": 9,
     "metadata": {},
     "output_type": "execute_result"
    }
   ],
   "source": [
    "get_max([1, 2, 3, 4, 5])"
   ]
  },
  {
   "cell_type": "code",
   "execution_count": null,
   "id": "27136ecc",
   "metadata": {},
   "outputs": [],
   "source": []
  }
 ],
 "metadata": {
  "kernelspec": {
   "display_name": "Python 3 (ipykernel)",
   "language": "python",
   "name": "python3"
  },
  "language_info": {
   "codemirror_mode": {
    "name": "ipython",
    "version": 3
   },
   "file_extension": ".py",
   "mimetype": "text/x-python",
   "name": "python",
   "nbconvert_exporter": "python",
   "pygments_lexer": "ipython3",
   "version": "3.9.12"
  }
 },
 "nbformat": 4,
 "nbformat_minor": 5
}
