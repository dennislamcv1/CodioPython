{
 "cells": [
  {
   "cell_type": "markdown",
   "id": "25c60435",
   "metadata": {},
   "source": [
    "Write a function called avg that takes two parameters. Return the average of these two parameters. If the parameters are not numbers, return the string, Please use two numbers as parameters"
   ]
  },
  {
   "cell_type": "code",
   "execution_count": 1,
   "id": "af54994a",
   "metadata": {},
   "outputs": [],
   "source": [
    "def avg(n1, n2):\n",
    "    \"\"\"Return average of two numbers\n",
    "    Return a message is a non-number is passed\"\"\"\n",
    "    try:\n",
    "      return(n1 + n2) / 2\n",
    "    except TypeError:\n",
    "      return(\"Please use two numbers as parameters\")"
   ]
  },
  {
   "cell_type": "code",
   "execution_count": 2,
   "id": "cd89d20f",
   "metadata": {},
   "outputs": [
    {
     "data": {
      "text/plain": [
       "17.5"
      ]
     },
     "execution_count": 2,
     "metadata": {},
     "output_type": "execute_result"
    }
   ],
   "source": [
    "avg(10,25)"
   ]
  },
  {
   "cell_type": "markdown",
   "id": "782bc6c4",
   "metadata": {},
   "source": [
    "Write a function called odds_or_evens that takes a boolean and a list of integers as parameters. If the boolean parameter is True, return a list of only even numbers. If the boolean parameter isFalse, return a list of only odd numbers."
   ]
  },
  {
   "cell_type": "code",
   "execution_count": 3,
   "id": "845eee31",
   "metadata": {},
   "outputs": [],
   "source": [
    "def odds_or_evens(my_bool, nums):\n",
    "    \"\"\"Returns all of the odd or\n",
    "    even numbers from a list\"\"\"\n",
    "    return_list = []\n",
    "    for num in nums:\n",
    "      if my_bool:\n",
    "          if num % 2 == 0:\n",
    "              return_list.append(num)\n",
    "      else:\n",
    "          if num % 2 != 0:\n",
    "              return_list.append(num)\n",
    "                \n",
    "    return return_list"
   ]
  },
  {
   "cell_type": "code",
   "execution_count": 4,
   "id": "c3f72a01",
   "metadata": {},
   "outputs": [
    {
     "data": {
      "text/plain": [
       "[22, 8]"
      ]
     },
     "execution_count": 4,
     "metadata": {},
     "output_type": "execute_result"
    }
   ],
   "source": [
    "odds_or_evens(True, [13, 22, 8, 31])"
   ]
  },
  {
   "cell_type": "markdown",
   "id": "40ef62a8",
   "metadata": {},
   "source": [
    "Write a function called search_list that takes a list and a search term as parameters. If the search term is located in the list, return the index of the matching element. The function should work even if there is a difference in capitalization. If the search term is not in the list, return -1"
   ]
  },
  {
   "cell_type": "code",
   "execution_count": 5,
   "id": "dd0f7980",
   "metadata": {},
   "outputs": [],
   "source": [
    "def search_list(lst, term):\n",
    "    \"\"\"Search for item in a list\n",
    "    Return the index if found\n",
    "    Return -1 if not found\"\"\"\n",
    "    for item in lst:\n",
    "        if item.lower() == term.lower():\n",
    "            return lst.index(item)\n",
    "    return -1"
   ]
  },
  {
   "cell_type": "code",
   "execution_count": 6,
   "id": "47082b37",
   "metadata": {},
   "outputs": [
    {
     "data": {
      "text/plain": [
       "-1"
      ]
     },
     "execution_count": 6,
     "metadata": {},
     "output_type": "execute_result"
    }
   ],
   "source": [
    "search_list([\"box\", \"car\", \"hat\"], \"mouse\")"
   ]
  },
  {
   "cell_type": "markdown",
   "id": "88f86774",
   "metadata": {},
   "source": [
    "Write a function called best_team that takes a csv file as a parameter. Read the comma-delimited CSV file specified by the variable mlb_data. The CSV file has a list of all of the MLB teams and their performance from the 2019 season. The function should return the team name for the team with the most wins. Important, the CSV file has a header of Tm,Lg,G,W,L, which stands for team name, league, games played, wins, and losses. Below are the file name and file path variables you will need for this exercise."
   ]
  },
  {
   "cell_type": "code",
   "execution_count": 7,
   "id": "366a6560",
   "metadata": {},
   "outputs": [],
   "source": [
    "import csv\n",
    "\n",
    "mlb_data = \"student_folder/.exercises/mlb_data.csv\"\n",
    "\n",
    "def best_team(file):\n",
    "    \"\"\"Read a CSV of baseball data.\n",
    "    Return the team name with the most wins\"\"\"\n",
    "    with open(file, \"r\") as csv_file:\n",
    "        reader = csv.reader(csv_file)\n",
    "        next(reader)\n",
    "        most_wins = 0\n",
    "        best_team = \"\"\n",
    "        for row in reader:\n",
    "            if int(row[3]) > most_wins:\n",
    "                most_wins = int(row[3])\n",
    "                best_team = row[0]\n",
    "        return best_team"
   ]
  },
  {
   "cell_type": "markdown",
   "id": "085b4b16",
   "metadata": {},
   "source": [
    "Write a function called is_palindrome that takes a string as a parameter. The function will return True if the string is a palindrome (is the same forward and backward). The function will return False if the string is not a palindrome."
   ]
  },
  {
   "cell_type": "code",
   "execution_count": 8,
   "id": "d1d8fd39",
   "metadata": {},
   "outputs": [],
   "source": [
    "def is_palindrome(string):\n",
    "    reversed_string= \"\"\n",
    "    position = len(string) - 1\n",
    "    while position >= 0:\n",
    "        reversed_string += string[position]\n",
    "        position -= 1\n",
    "    if string == reversed_string:\n",
    "        return True\n",
    "    else:\n",
    "        return False"
   ]
  },
  {
   "cell_type": "code",
   "execution_count": 9,
   "id": "5ae05a15",
   "metadata": {},
   "outputs": [
    {
     "data": {
      "text/plain": [
       "False"
      ]
     },
     "execution_count": 9,
     "metadata": {},
     "output_type": "execute_result"
    }
   ],
   "source": [
    "is_palindrome(\"house\")"
   ]
  },
  {
   "cell_type": "code",
   "execution_count": null,
   "id": "726b0018",
   "metadata": {},
   "outputs": [],
   "source": []
  }
 ],
 "metadata": {
  "kernelspec": {
   "display_name": "Python 3 (ipykernel)",
   "language": "python",
   "name": "python3"
  },
  "language_info": {
   "codemirror_mode": {
    "name": "ipython",
    "version": 3
   },
   "file_extension": ".py",
   "mimetype": "text/x-python",
   "name": "python",
   "nbconvert_exporter": "python",
   "pygments_lexer": "ipython3",
   "version": "3.9.12"
  }
 },
 "nbformat": 4,
 "nbformat_minor": 5
}
