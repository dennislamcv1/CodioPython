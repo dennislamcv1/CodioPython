{
 "cells": [
  {
   "cell_type": "markdown",
   "id": "ada734ac",
   "metadata": {},
   "source": [
    "Use the Lottery class to the left as the parent class. Create the PowerBall class as a child class of Lottery. Override the shuffle method so that it returns a list of six random integers between 1 and 99."
   ]
  },
  {
   "cell_type": "code",
   "execution_count": 1,
   "id": "ddfb954a",
   "metadata": {},
   "outputs": [],
   "source": [
    "import random\n",
    "\n",
    "class Lottery:\n",
    "  def shuffle(self):\n",
    "    results = []\n",
    "    for i in range(5):\n",
    "      results.append(random.randint(1, 20))\n",
    "    return results\n",
    "\n",
    "class PowerBall(Lottery):\n",
    "  def shuffle(self):\n",
    "    results = []\n",
    "    for i in range(6):\n",
    "      results.append(random.randint(1, 99))\n",
    "    return results\n"
   ]
  },
  {
   "cell_type": "markdown",
   "id": "e3f52655",
   "metadata": {},
   "source": [
    "Complete the Airplane and Train classes so that when an instance of each is passed to the passengers function, they will return the total number of passengers on board."
   ]
  },
  {
   "cell_type": "code",
   "execution_count": 2,
   "id": "29b73bba",
   "metadata": {},
   "outputs": [],
   "source": [
    "class Airplane:\n",
    "  def __init__(self, first_class, business_class, coach):\n",
    "    self.first_class = first_class\n",
    "    self.business_class = business_class\n",
    "    self.coach = coach\n",
    "    \n",
    "  def total(self):\n",
    "    return self.first_class + self.business_class + self.coach\n",
    "  \n",
    "class Train:\n",
    "  def __init__(self, car1, car2, car3, car4, car5):\n",
    "    self.car1 = car1\n",
    "    self.car2 = car2\n",
    "    self.car3 = car3\n",
    "    self.car4 = car4\n",
    "    self.car5 = car5\n",
    "    \n",
    "  def total(self):\n",
    "    return self.car1 + self.car2 + self.car3 + self.car4 + self.car5\n",
    "  \n",
    "def passengers(obj):\n",
    "  print(f'There are {obj.total()} passengers on board.')\n"
   ]
  },
  {
   "cell_type": "markdown",
   "id": "c9784047",
   "metadata": {},
   "source": [
    "Create the class Characters which has the attribute phrases which is a list of strings passed as a parameter. Overload the <, >, and == operators so that you can make comparisons based on the total number of characters in the string."
   ]
  },
  {
   "cell_type": "code",
   "execution_count": 3,
   "id": "d4e3cb2d",
   "metadata": {},
   "outputs": [],
   "source": [
    "class Characters:\n",
    "  def __init__(self, phrases):\n",
    "    self.phrases = phrases\n",
    "    \n",
    "  def total_characters(self):\n",
    "    total = 0\n",
    "    for phrase in self.phrases:\n",
    "      total += len(phrase)\n",
    "    return total\n",
    "    \n",
    "  def __gt__(self, obj):\n",
    "    return self.total_characters() > obj.total_characters()\n",
    "  \n",
    "  def __lt__(self, obj):\n",
    "    return self.total_characters() < obj.total_characters()\n",
    "  \n",
    "  def __eq__(self, obj):\n",
    "    return self.total_characters() == obj.total_characters()\n"
   ]
  },
  {
   "cell_type": "code",
   "execution_count": 4,
   "id": "04d1c096",
   "metadata": {},
   "outputs": [
    {
     "name": "stdout",
     "output_type": "stream",
     "text": [
      "True\n",
      "False\n",
      "True\n"
     ]
    }
   ],
   "source": [
    "sample_phrases1 = ['cat in the hat', 'green eggs and ham', 'the lorax']\n",
    "sample_phrases2 = ['the taming of the shrew', 'hamlet', 'othello']\n",
    "\n",
    "c1 = Characters(sample_phrases1)\n",
    "c2 = Characters(sample_phrases2)\n",
    "print(c1 > c2) # prints 'True'\n",
    "print(c1 < c2) # prints 'False'\n",
    "print(c1 == c1) # prints 'True'\n"
   ]
  },
  {
   "cell_type": "markdown",
   "id": "5b2b1fc9",
   "metadata": {},
   "source": [
    "Create the Median that has the method calculate_median that calculates the median of the integers passed to the method. Use method overloading so that this method can accept anywhere from two to five parameters."
   ]
  },
  {
   "cell_type": "code",
   "execution_count": 5,
   "id": "ccc057bd",
   "metadata": {},
   "outputs": [],
   "source": [
    "class Median:\n",
    "  def calculate_median(self, n1, n2, n3=None, n4=None, n5=None):\n",
    "    if n3 is not None and n4 is not None and n5 is not None:\n",
    "      numbers = [n1, n2, n3, n4, n5]\n",
    "    elif n3 is not None and n4 is not None:\n",
    "      numbers = [n1, n2, n3, n4]\n",
    "    elif n3 is not None:\n",
    "      numbers = [n1, n2, n3]\n",
    "    else:\n",
    "      numbers = [n1, n2]\n",
    "    \n",
    "    numbers.sort()\n",
    "    median_index = len(numbers) // 2\n",
    "    if len(numbers) % 2 == 0:\n",
    "      median = (numbers[median_index] + numbers[median_index - 1]) / 2\n",
    "    else:\n",
    "      median = numbers[median_index]\n",
    "    return median\n"
   ]
  },
  {
   "cell_type": "markdown",
   "id": "9d15d0a3",
   "metadata": {},
   "source": [
    "The Substitute class reads a text file and replaces every fifth word with the string HELLO."
   ]
  },
  {
   "cell_type": "code",
   "execution_count": null,
   "id": "4aaa6859",
   "metadata": {},
   "outputs": [],
   "source": [
    "source_file = '/home/codio/workspace/code/polymorphism/text_1_exercise5.txt'\n",
    "answer_file = '/home/codio/workspace/code/polymorphism/answer_exercise5.txt'\n",
    "\n",
    "class Substitute:\n",
    "  def __init__(self, source_file, answer_file):\n",
    "    self.source_file = source_file\n",
    "    self.answer_file = answer_file\n",
    "    self.words = None\n",
    "    \n",
    "  def string_to_list(self):\n",
    "    '''Read text file, turn it into a\n",
    "    2D list of words for each line'''\n",
    "    words = []\n",
    "    with open(self.source_file, 'r') as file_object:\n",
    "      lines = file_object.read().split('\\n')\n",
    "      for line in lines:\n",
    "        words.append(line.split())\n",
    "    self.words = words\n",
    "    \n",
    "  def list_to_string(self):\n",
    "    '''Convert 2D list back into a \n",
    "    string with newline characters'''\n",
    "    lines = []\n",
    "    for line in self.words:\n",
    "      lines.append(' '.join(line))\n",
    "    string = '\\n'.join(lines)\n",
    "    self.words = string\n",
    "  \n",
    "  def swap_words(self):\n",
    "    self.string_to_list()\n",
    "    for line in self.words:\n",
    "      for i in range(len(line)):\n",
    "        if (i + 1) % 5 == 0:\n",
    "          word = line[i]\n",
    "          line[i] = 'HELLO'\n",
    "    self.list_to_string()\n",
    "\n",
    "\n",
    "class Stars(Substitute):\n",
    "  def swap_words(self):\n",
    "    self.string_to_list()\n",
    "    for line in self.words:\n",
    "      for i in range(len(line)):\n",
    "        if (i + 1) % 3 == 0:\n",
    "          word = line[i]\n",
    "          line[i] = '*' * len(word)\n",
    "    self.list_to_string()\n",
    "    file = open(self.answer_file, 'w')\n",
    "    file.writelines(self.words)\n",
    "    file.close()\n",
    "    \n",
    "s = Stars(source_file, answer_file)\n",
    "s.swap_words()\n"
   ]
  }
 ],
 "metadata": {
  "kernelspec": {
   "display_name": "Python 3 (ipykernel)",
   "language": "python",
   "name": "python3"
  },
  "language_info": {
   "codemirror_mode": {
    "name": "ipython",
    "version": 3
   },
   "file_extension": ".py",
   "mimetype": "text/x-python",
   "name": "python",
   "nbconvert_exporter": "python",
   "pygments_lexer": "ipython3",
   "version": "3.9.12"
  }
 },
 "nbformat": 4,
 "nbformat_minor": 5
}
