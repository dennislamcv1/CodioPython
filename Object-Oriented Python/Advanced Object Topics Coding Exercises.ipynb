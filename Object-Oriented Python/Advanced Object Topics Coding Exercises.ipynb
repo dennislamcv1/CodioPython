{
 "cells": [
  {
   "cell_type": "markdown",
   "id": "41844faa",
   "metadata": {},
   "source": [
    "Write a script that imports the Phone and Laptop classes. These classes are found in the tech module. Your script must import the classes as follows:"
   ]
  },
  {
   "cell_type": "code",
   "execution_count": null,
   "id": "d0b63c09",
   "metadata": {},
   "outputs": [],
   "source": [
    "import tech\n",
    "\n",
    "my_phone = tech.Phone('Pixel 5', 'sage', 128)\n",
    "my_laptop = tech.Laptop('MacBook Pro', 15, 256)\n",
    "\n",
    "print(my_phone)\n",
    "print(my_laptop)\n"
   ]
  },
  {
   "cell_type": "markdown",
   "id": "af6a238e",
   "metadata": {},
   "source": [
    "You have been given the class Band. Extend the class such that it will produce specific output when using the print and repr."
   ]
  },
  {
   "cell_type": "code",
   "execution_count": 1,
   "id": "9ad6df7d",
   "metadata": {},
   "outputs": [],
   "source": [
    "class Band:\n",
    "  def __init__(self, name, genre, members):\n",
    "    self.name = name\n",
    "    self.genre = genre\n",
    "    self.members = members\n",
    "    \n",
    "  def __str__(self):\n",
    "    return f'{self.name} is a {self.genre} band.'\n",
    "  \n",
    "  def __repr__(self):\n",
    "    return f'Band({self.name}, {self.genre}, {self.members})'\n"
   ]
  },
  {
   "cell_type": "markdown",
   "id": "b819abfc",
   "metadata": {},
   "source": [
    "Create the Dog class with attributes for name and breed. Then create a list of five dogs according to the following table"
   ]
  },
  {
   "cell_type": "code",
   "execution_count": 2,
   "id": "285cf614",
   "metadata": {},
   "outputs": [],
   "source": [
    "class Dog:\n",
    "  def __init__(self, name, breed):\n",
    "    self.name = name\n",
    "    self.breed = breed\n",
    "    \n",
    "dogs = []\n",
    "dogs.append(Dog('Marceline', 'German Shepherd'))\n",
    "dogs.append(Dog('Cajun', 'Belgian Malinois'))\n",
    "dogs.append(Dog('Daisy', 'Border Collie'))\n",
    "dogs.append(Dog('Rocky', 'Golden Retriever'))\n",
    "dogs.append(Dog('Bella', 'Irish Setter'))\n"
   ]
  },
  {
   "cell_type": "markdown",
   "id": "a0a1c206",
   "metadata": {},
   "source": [
    "You are given code for the Library class (in its own file). This is a composite class. You are going to create the Book class (the component class) in book.py file. Look over the Library class carefully to determine what attributes are needed for the Book class. In addition, the table of output contains a hint as to what method the Book class needs."
   ]
  },
  {
   "cell_type": "code",
   "execution_count": 3,
   "id": "a0a1050d",
   "metadata": {},
   "outputs": [],
   "source": [
    "class Book:\n",
    "  def __init__(self, title, author, genre):\n",
    "    self.author = author\n",
    "    self.title = title\n",
    "    self.genre = genre\n",
    "    \n",
    "  def __repr__(self):\n",
    "    return f'Book({self.title}, {self.author}, {self.genre})'\n"
   ]
  },
  {
   "cell_type": "markdown",
   "id": "8ee02f07",
   "metadata": {},
   "source": [
    "You are going to write a program that simulates an online shopping cart. Create the composite class ShoppingCart in the shopping_cart.py file, and create the component class Item in the item.py file. The tables below indicate which attributes and methods your classes will need to create."
   ]
  },
  {
   "cell_type": "code",
   "execution_count": 4,
   "id": "19b70643",
   "metadata": {},
   "outputs": [],
   "source": [
    "class ShoppingCart:\n",
    "  def __init__(self):\n",
    "    self.items = []\n",
    "    self.total = 0\n",
    "    \n",
    "  def add_item(self, item):\n",
    "    self.items.append(item)\n",
    "    self.calculate_total()\n",
    "    \n",
    "  def calculate_total(self):\n",
    "    self.total = 0\n",
    "    for item in self.items:\n",
    "      item.calculate_subtotal()\n",
    "      self.total += item.get_subtotal()\n",
    "      \n",
    "  def get_total(self):\n",
    "    return self.total\n",
    "  \n",
    "  def get_num_items(self):\n",
    "    return len(self.items)\n",
    "  \n",
    "  def get_items(self):\n",
    "    return self.items\n",
    "  \n",
    "  def __str__(self):\n",
    "    return f'The cart has {self.get_num_items()} items for a total of ${self.total}'\n"
   ]
  },
  {
   "cell_type": "code",
   "execution_count": null,
   "id": "0e6f31a9",
   "metadata": {},
   "outputs": [],
   "source": []
  }
 ],
 "metadata": {
  "kernelspec": {
   "display_name": "Python 3 (ipykernel)",
   "language": "python",
   "name": "python3"
  },
  "language_info": {
   "codemirror_mode": {
    "name": "ipython",
    "version": 3
   },
   "file_extension": ".py",
   "mimetype": "text/x-python",
   "name": "python",
   "nbconvert_exporter": "python",
   "pygments_lexer": "ipython3",
   "version": "3.9.12"
  }
 },
 "nbformat": 4,
 "nbformat_minor": 5
}
