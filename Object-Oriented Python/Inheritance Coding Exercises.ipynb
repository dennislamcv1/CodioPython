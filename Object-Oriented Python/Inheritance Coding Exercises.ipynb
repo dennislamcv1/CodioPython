{
 "cells": [
  {
   "cell_type": "markdown",
   "id": "2f5f910c",
   "metadata": {},
   "source": [
    "Use the CelestialBody class to the left as the parent class. Create the Satellite and Planet classes, both of which are children of CelestialBody. Using the super() keyword to extend the __init__ method of the parent class, add the attribute host_planet to the Satellite class and add the attribute host_star to the Planet class."
   ]
  },
  {
   "cell_type": "code",
   "execution_count": 1,
   "id": "03a2eb59",
   "metadata": {},
   "outputs": [],
   "source": [
    "class CelestialBody:\n",
    "  def __init__(self, size, mass, composition, name):\n",
    "    self.size = size\n",
    "    self.mass = mass\n",
    "    self.composition = composition\n",
    "    self.name = name\n",
    "    \n",
    "# create the satellite class\n",
    "class Satellite(CelestialBody):\n",
    "  def __init__(self, size, mass, composition, name, host_planet):\n",
    "    super().__init__(size, mass, composition, name)\n",
    "    self.host_planet = host_planet\n",
    "\n",
    "# create the planet class\n",
    "class Planet(CelestialBody):\n",
    "  def __init__(self, size, mass, composition, name, host_star):\n",
    "    super().__init__(size, mass, composition, name)\n",
    "    self.host_star = host_star\n"
   ]
  },
  {
   "cell_type": "markdown",
   "id": "c7d692c9",
   "metadata": {},
   "source": [
    "Use the parent class Book to help you solve this problem. Create the child class BlogPost and override the constructor so that the child class has the following attributes:"
   ]
  },
  {
   "cell_type": "code",
   "execution_count": 2,
   "id": "1ea7da9a",
   "metadata": {},
   "outputs": [],
   "source": [
    "# parent class\n",
    "class Book:\n",
    "  def __init__(self, title, author, pages, genre):\n",
    "    self.title = title\n",
    "    self.author = author\n",
    "    self.genre = genre\n",
    "\n",
    "# child class\n",
    "class BlogPost(Book):\n",
    "  def __init__(self, website, title, author, word_count, genre, page_views):\n",
    "    super().__init__(title, author, genre)\n",
    "    self.website = website\n",
    "    self.word_count = word_count\n",
    "    self.page_views = page_views\n"
   ]
  },
  {
   "cell_type": "markdown",
   "id": "bec4df60",
   "metadata": {},
   "source": [
    "Create the class Child such that the following criteria are met"
   ]
  },
  {
   "cell_type": "code",
   "execution_count": 3,
   "id": "b92e3f08",
   "metadata": {},
   "outputs": [],
   "source": [
    "class Parent1:\n",
    "  def identify(self):\n",
    "    return \"This method is called from Parent1\"\n",
    "    \n",
    "class Parent2:\n",
    "  def identify(self):\n",
    "    return \"This method is called from Parent2\"\n",
    "    \n",
    "# declare child class here\n",
    "class Child(Parent2, Parent1):\n",
    "  def identify(self):\n",
    "    return \"This method is called from Child\"\n",
    "  \n",
    "  def identify2(self):\n",
    "    return super().identify()\n"
   ]
  },
  {
   "cell_type": "markdown",
   "id": "cd45887e",
   "metadata": {},
   "source": [
    "The code to the left creates a class called Bank. This class has a branch name, the number of customers, and a list of the amount of money in each customer’s bank account. The method branch_total takes the list of customer money and returns the total amount of money held by the bank.\n",
    "Create the class RegionalBank as a child of the Bank class. This class has a name, the number of customers in the region, and a 2D list of all of the money in the bank accounts for each branch. Extend the RegionalBank class by adding the method regional_total which returns the total amount of money kept in all of the banks in the region.\n",
    "Instantiate an object from the RegionalBank class and use the variable accounts as the 2D list of bank account. Print out the result from regional_total."
   ]
  },
  {
   "cell_type": "code",
   "execution_count": null,
   "id": "250a5942",
   "metadata": {},
   "outputs": [],
   "source": [
    "# DO NOT ALTER THIS CODE\n",
    "import sys\n",
    "strings = [l.split(\",\") for l in sys.argv[1].split(\"*\")]\n",
    "accounts = [[int(n) for n in s] for s in strings]\n",
    "\n",
    "\n",
    "class Bank:\n",
    "  def __init__(self, name, customers, accounts):\n",
    "    self.name = name\n",
    "    self.customers = customers\n",
    "    self.accounts = accounts\n",
    "    \n",
    "  def branch_total(self, accounts):\n",
    "    total = 0\n",
    "    for account in accounts:\n",
    "      total += account\n",
    "    return total\n",
    "\n",
    "# Write your code here\n",
    "class RegionalBank(Bank):\n",
    "  def regional_total(self):\n",
    "    total = 0\n",
    "    for account in accounts:\n",
    "      total += self.branch_total(account)\n",
    "    return total\n",
    "  \n",
    "my_bank = RegionalBank(\"Bank of America\", 9, accounts)\n",
    "print(my_bank.regional_total())\n"
   ]
  },
  {
   "cell_type": "markdown",
   "id": "79c353f3",
   "metadata": {},
   "source": [
    "Use the parent classes to the left to help you solve this problem. The first parent is the Person class with some very generic information. The second class, CardHolder, is the class for a credit card holder. Create the child class PlantinumClient. This class inherits all of the attributes of both parent classes. In addition, the child class has the attributes cash_back and rewards. cash_back should be set to 0.02 and rewards should be set to 0. Override the process_sale method so that 2% of each sale is added to rewards."
   ]
  },
  {
   "cell_type": "code",
   "execution_count": null,
   "id": "8b0cbcc9",
   "metadata": {},
   "outputs": [],
   "source": [
    "# parent classes\n",
    "class Person:\n",
    "  def __init__(self, name, address):\n",
    "    self.name = name\n",
    "    self.address = address\n",
    "    \n",
    "  def get_info(self):\n",
    "    return f\"{self.name} lives at {self.address}.\"\n",
    "  \n",
    "class CardHolder:\n",
    "  def __init__(self, account_number):\n",
    "    self.account_number = account_number\n",
    "    self.balance = 0\n",
    "    self.credit_limit = 5000\n",
    "    \n",
    "  def process_sale(self, price):\n",
    "    self.balance += price\n",
    "    \n",
    "  def make_payment(self, amount):\n",
    "    self.balance -= amount\n",
    "    \n",
    "# declare child class here\n",
    "class PlatinumClient(Person, CardHolder):\n",
    "  def __init__(self, name, address, account_number):\n",
    "    Person.__init__(self, name, address)\n",
    "    CardHolder.__init__(self, account_number)\n",
    "    self.cash_back = 0.02\n",
    "    self.rewards = 0\n",
    "    \n",
    "  def process_sale(self, price):\n",
    "    self.balance += price\n",
    "    self.rewards += self.cash_back * price\n"
   ]
  }
 ],
 "metadata": {
  "kernelspec": {
   "display_name": "Python 3 (ipykernel)",
   "language": "python",
   "name": "python3"
  },
  "language_info": {
   "codemirror_mode": {
    "name": "ipython",
    "version": 3
   },
   "file_extension": ".py",
   "mimetype": "text/x-python",
   "name": "python",
   "nbconvert_exporter": "python",
   "pygments_lexer": "ipython3",
   "version": "3.9.12"
  }
 },
 "nbformat": 4,
 "nbformat_minor": 5
}
