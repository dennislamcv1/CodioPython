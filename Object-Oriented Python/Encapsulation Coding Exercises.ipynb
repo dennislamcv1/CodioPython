{
 "cells": [
  {
   "cell_type": "markdown",
   "id": "1a4a2e16",
   "metadata": {},
   "source": [
    "Define the Country class which has attributes for name, capital, population, and continent. Please use the Python convention for making these attributes private."
   ]
  },
  {
   "cell_type": "code",
   "execution_count": 1,
   "id": "86127f0f",
   "metadata": {},
   "outputs": [],
   "source": [
    "class Country:\n",
    "  def __init__(self, name, capital, population, continent):\n",
    "    self._name = name\n",
    "    self._capital = capital\n",
    "    self._population = population\n",
    "    self._continent = continent\n"
   ]
  },
  {
   "cell_type": "markdown",
   "id": "3e5a29c5",
   "metadata": {},
   "source": [
    "Define the Artist class which has attributes for name, medium, style, and famous_artwork. Do not use the Python convention to make these attributes."
   ]
  },
  {
   "cell_type": "code",
   "execution_count": 2,
   "id": "ca62fc79",
   "metadata": {},
   "outputs": [],
   "source": [
    "class Artist:\n",
    "  def __init__(self, name, medium, style, famous_artwork):\n",
    "    self.__name = name\n",
    "    self.__medium = medium\n",
    "    self.__style = style\n",
    "    self.__famous_artwork = famous_artwork\n"
   ]
  },
  {
   "cell_type": "code",
   "execution_count": 3,
   "id": "35f3ac39",
   "metadata": {},
   "outputs": [],
   "source": [
    "my_artist = Artist('Bill Watterson', 'ink and paper', 'cartoons', 'Calvin and Hobbes')"
   ]
  },
  {
   "cell_type": "markdown",
   "id": "aa59cf13",
   "metadata": {},
   "source": [
    "Define the BankAccount class which has attributes for checking and savings. Use the Python convention to make these attributes private. Create the getters get_checking and get_savings, and create the setters set_checking and set_savings."
   ]
  },
  {
   "cell_type": "code",
   "execution_count": 4,
   "id": "c4ceccf1",
   "metadata": {},
   "outputs": [],
   "source": [
    "class BankAccount():\n",
    "  def __init__(self):\n",
    "    self._checking = 0\n",
    "    self._savings = 0\n",
    "    \n",
    "  def get_checking(self):\n",
    "    return self._checking\n",
    "  \n",
    "  def set_checking(self, new_value):\n",
    "    self._checking = new_value\n",
    "    \n",
    "  def get_savings(self):\n",
    "    return self._savings\n",
    "  \n",
    "  def set_savings(self, new_value):\n",
    "    self._savings = new_value\n"
   ]
  },
  {
   "cell_type": "markdown",
   "id": "5e409dd1",
   "metadata": {},
   "source": [
    "Define the Dancer class which has attributes for name, nationality, and style. Use the Python convention to make these attributes private. Create the getters and setters using the property function."
   ]
  },
  {
   "cell_type": "code",
   "execution_count": 5,
   "id": "a07ec144",
   "metadata": {},
   "outputs": [],
   "source": [
    "class Dancer:\n",
    "  def __init__(self, name, nationality, style):\n",
    "    self._name = name\n",
    "    self._nationality = nationality\n",
    "    self._style = style\n",
    "    \n",
    "  def get_name(self):\n",
    "    return self._name\n",
    "  \n",
    "  def set_name(self, new_value):\n",
    "    self._name = new_value\n",
    "    \n",
    "  def get_nationality(self):\n",
    "    return self._nationality\n",
    "  \n",
    "  def set_nationality(self, new_value):\n",
    "    self._nationality = new_value\n",
    "    \n",
    "  def get_style(self):\n",
    "    return self._style\n",
    "  \n",
    "  def set_style(self, new_value):\n",
    "    self._style = new_value\n",
    "    \n",
    "  name = property(get_name, set_name)\n",
    "  nationality = property(get_nationality, set_nationality)\n",
    "  style = property(get_style, set_style)\n"
   ]
  },
  {
   "cell_type": "markdown",
   "id": "a40ec0b4",
   "metadata": {},
   "source": [
    "Define the Cyclist class which has attributes name, nationality, and nickname. Use the Python convention to make these attributes private. Create the getters and setters using the property decorator."
   ]
  },
  {
   "cell_type": "code",
   "execution_count": 6,
   "id": "7f836d86",
   "metadata": {},
   "outputs": [],
   "source": [
    "class Cyclist:\n",
    "  def __init__(self, name, nationality, nickname):\n",
    "    self._name = name\n",
    "    self._nationality = nationality\n",
    "    self._nickname = nickname\n",
    "    \n",
    "  @property\n",
    "  def name(self):\n",
    "    return self._name\n",
    "  \n",
    "  @name.setter\n",
    "  def name(self, new_value):\n",
    "    self._name = new_value\n",
    "    \n",
    "  @property\n",
    "  def nationality(self):\n",
    "    return self._nationality\n",
    "  \n",
    "  @nationality.setter\n",
    "  def nationality(self, new_value):\n",
    "    self._nationality = new_value\n",
    "    \n",
    "  @property\n",
    "  def nickname(self):\n",
    "    return self._nickname\n",
    "  \n",
    "  @nickname.setter\n",
    "  def nickname(self, new_value):\n",
    "    self._nickname = new_value\n"
   ]
  },
  {
   "cell_type": "code",
   "execution_count": null,
   "id": "e5c500f5",
   "metadata": {},
   "outputs": [],
   "source": []
  }
 ],
 "metadata": {
  "kernelspec": {
   "display_name": "Python 3 (ipykernel)",
   "language": "python",
   "name": "python3"
  },
  "language_info": {
   "codemirror_mode": {
    "name": "ipython",
    "version": 3
   },
   "file_extension": ".py",
   "mimetype": "text/x-python",
   "name": "python",
   "nbconvert_exporter": "python",
   "pygments_lexer": "ipython3",
   "version": "3.9.12"
  }
 },
 "nbformat": 4,
 "nbformat_minor": 5
}
