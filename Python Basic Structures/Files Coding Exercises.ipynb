{
 "cells": [
  {
   "cell_type": "markdown",
   "id": "ac9bc09a",
   "metadata": {},
   "source": [
    "Write a program that reads a text file and returns the number of lines as well as the total number of characters in the file."
   ]
  },
  {
   "cell_type": "code",
   "execution_count": null,
   "id": "0465ef18",
   "metadata": {},
   "outputs": [],
   "source": [
    "import sys\n",
    "\n",
    "test_file = \"sample.txt\"\n",
    "\n",
    "line_count = 0\n",
    "char_count = 0\n",
    "\n",
    "with open(test_file, \"r\") as input_file:\n",
    "    line = input_file.readline()\n",
    "    while line != \"\":\n",
    "        line_count += 1\n",
    "        char_count += len(line)\n",
    "        line = input_file.readline()\n",
    "\n",
    "print(\"{} lines\".format(line_count))\n",
    "print(\"{} characters\".format(char_count))\n",
    "\n"
   ]
  },
  {
   "cell_type": "markdown",
   "id": "244028ad",
   "metadata": {},
   "source": [
    "Write a program that reads a comma delimited CSV file with four columns and returns the average of each column in the file."
   ]
  },
  {
   "cell_type": "code",
   "execution_count": null,
   "id": "cb5465ba",
   "metadata": {},
   "outputs": [],
   "source": [
    "import sys, csv\n",
    "\n",
    "test_file = \"100rows.csv\"\n",
    "\n",
    "total1 = 0\n",
    "total2 = 0\n",
    "total3 = 0\n",
    "total4 = 0\n",
    "row_count = 0\n",
    "\n",
    "with open(test_file, \"r\") as input_file:\n",
    "    reader = csv.reader(input_file)\n",
    "    for num1, num2, num3, num4 in reader:\n",
    "        row_count += 1\n",
    "        total1 += int(num1)\n",
    "        total2 += int(num2)\n",
    "        total3 += int(num3)\n",
    "        total4 += int(num4)\n",
    "\n",
    "print(\"{} {} {} {}\".format(total1/row_count, total2/row_count, total3/row_count, total4/row_count))\n"
   ]
  },
  {
   "cell_type": "markdown",
   "id": "2838329e",
   "metadata": {},
   "source": [
    "Write a program that reads a text file and prints the contents in reverse order."
   ]
  },
  {
   "cell_type": "code",
   "execution_count": null,
   "id": "f06808f6",
   "metadata": {},
   "outputs": [],
   "source": [
    "import sys\n",
    "\n",
    "test_file = \"sample2.txt\"\n",
    "\n",
    "with open(test_file, \"r\") as input_file:\n",
    "    lines = input_file.readlines()\n",
    "    lines.reverse()\n",
    "    for line in lines:\n",
    "        print(line)\n"
   ]
  },
  {
   "cell_type": "markdown",
   "id": "3482d749",
   "metadata": {},
   "source": [
    "Write a program that reads a tab delimited CSV file and prints the name of the oldest person in the file."
   ]
  },
  {
   "cell_type": "code",
   "execution_count": null,
   "id": "2de01968",
   "metadata": {},
   "outputs": [],
   "source": [
    "import sys, csv\n",
    "\n",
    "test_file = \"2kb.csv\"\n",
    "oldest_age = 0\n",
    "oldest_name = \"\"\n",
    "\n",
    "with open(test_file, \"r\") as input_file:\n",
    "    reader = csv.reader(input_file, delimiter=\"\\t\")\n",
    "    next(reader)\n",
    "    for name, age, career in reader:\n",
    "        if int(age) > oldest_age:\n",
    "            oldest_age = int(age)\n",
    "            oldest_name = name\n",
    "            \n",
    "print(\"The oldest person is {}.\".format(oldest_name))\n"
   ]
  },
  {
   "cell_type": "markdown",
   "id": "eca2867d",
   "metadata": {},
   "source": [
    "Write a program that reads a comma delimited CSV file and prints all of the cities which reside in the Southern Hemisphere. Note, any latitude with a negative value is south of the equator."
   ]
  },
  {
   "cell_type": "code",
   "execution_count": null,
   "id": "9fc47c4e",
   "metadata": {},
   "outputs": [],
   "source": [
    "import sys, csv\n",
    "\n",
    "test_file = \"2kb.csv\"\n",
    "cities = []\n",
    "\n",
    "with open(test_file, \"r\") as input_file:\n",
    "    reader = csv.reader(input_file)\n",
    "    next(reader)\n",
    "    for city, country, latitude, longitude in reader:\n",
    "        if int(latitude) < 0:\n",
    "            cities.append(city)\n",
    "            \n",
    "print(\"The following cities are in the Southern Hemisphere: \", end=\"\")\n",
    "for city in cities:\n",
    "    if city == cities[-1]:\n",
    "        print(city + \".\")\n",
    "    else:\n",
    "        print(city, end=\", \")\n"
   ]
  },
  {
   "cell_type": "code",
   "execution_count": null,
   "id": "2c06e398",
   "metadata": {},
   "outputs": [],
   "source": []
  }
 ],
 "metadata": {
  "kernelspec": {
   "display_name": "Python 3 (ipykernel)",
   "language": "python",
   "name": "python3"
  },
  "language_info": {
   "codemirror_mode": {
    "name": "ipython",
    "version": 3
   },
   "file_extension": ".py",
   "mimetype": "text/x-python",
   "name": "python",
   "nbconvert_exporter": "python",
   "pygments_lexer": "ipython3",
   "version": "3.9.12"
  }
 },
 "nbformat": 4,
 "nbformat_minor": 5
}
