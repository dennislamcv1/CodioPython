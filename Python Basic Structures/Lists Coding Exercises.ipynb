{
 "cells": [
  {
   "cell_type": "markdown",
   "id": "72f3b355",
   "metadata": {},
   "source": [
    "Write a program that takes a list of integers called numbers and replaces each element greater than 10 with a '*'. Print the new version of numbers"
   ]
  },
  {
   "cell_type": "code",
   "execution_count": 1,
   "id": "45224def",
   "metadata": {},
   "outputs": [],
   "source": [
    "import sys\n",
    "\n",
    "numbers = [30, 1, 20, 4]\n",
    "for i in range(len(numbers)):\n",
    "  numbers[i] = int(numbers[i])"
   ]
  },
  {
   "cell_type": "code",
   "execution_count": 2,
   "id": "726c2af9",
   "metadata": {},
   "outputs": [
    {
     "name": "stdout",
     "output_type": "stream",
     "text": [
      "['*', 1, '*', 4]\n"
     ]
    }
   ],
   "source": [
    "for number in numbers:\n",
    "    if number > 10:\n",
    "        numbers[numbers.index(number)] = '*'\n",
    "\n",
    "print(numbers)\n"
   ]
  },
  {
   "cell_type": "markdown",
   "id": "25e752e1",
   "metadata": {},
   "source": [
    "Write a program that takes a list called my_list (it could be a list of any data type) and prints the list three times if the length of the list is less than 5. If the length of my_list is greater than or equal to 5, then print the list one time."
   ]
  },
  {
   "cell_type": "code",
   "execution_count": 3,
   "id": "23403247",
   "metadata": {},
   "outputs": [],
   "source": [
    "my_list = [65, 111, 2, 81, 65, 32]"
   ]
  },
  {
   "cell_type": "code",
   "execution_count": 4,
   "id": "5b36bc77",
   "metadata": {},
   "outputs": [
    {
     "name": "stdout",
     "output_type": "stream",
     "text": [
      "[65, 111, 2, 81, 65, 32]\n"
     ]
    }
   ],
   "source": [
    "if len(my_list) < 5:\n",
    "  print(my_list * 3)\n",
    "else:\n",
    "  print(my_list)\n"
   ]
  },
  {
   "cell_type": "markdown",
   "id": "8cdc9863",
   "metadata": {},
   "source": [
    "Write a program that takes a list called strings that contains a random selection of strings. Your program should print the first string when arranged in alphabetical order."
   ]
  },
  {
   "cell_type": "code",
   "execution_count": 5,
   "id": "bfef9faa",
   "metadata": {},
   "outputs": [],
   "source": [
    "strings = ['duck', 'dddd', 'mouse', 'kite']"
   ]
  },
  {
   "cell_type": "code",
   "execution_count": 6,
   "id": "f34397f1",
   "metadata": {},
   "outputs": [
    {
     "name": "stdout",
     "output_type": "stream",
     "text": [
      "dddd\n"
     ]
    }
   ],
   "source": [
    "strings.sort()\n",
    "print(strings.pop(0))\n"
   ]
  },
  {
   "cell_type": "code",
   "execution_count": 7,
   "id": "3a97744d",
   "metadata": {},
   "outputs": [
    {
     "name": "stdout",
     "output_type": "stream",
     "text": [
      "duck\n"
     ]
    }
   ],
   "source": [
    "print(min(strings))\n"
   ]
  },
  {
   "cell_type": "markdown",
   "id": "72e959d5",
   "metadata": {},
   "source": [
    "Write a program that takes a list called numbers that contains integers in a sequence (the sequence is always increasing, never decreasing). Your program should add the next two numbers in the sequence, and then print the list."
   ]
  },
  {
   "cell_type": "code",
   "execution_count": 8,
   "id": "3eb4f414",
   "metadata": {},
   "outputs": [],
   "source": [
    "numbers = [-5, -4, -3, -2]"
   ]
  },
  {
   "cell_type": "code",
   "execution_count": 9,
   "id": "084e1c71",
   "metadata": {},
   "outputs": [
    {
     "name": "stdout",
     "output_type": "stream",
     "text": [
      "[-5, -4, -3, -2, -1, 0]\n"
     ]
    }
   ],
   "source": [
    "for i in range(2):\n",
    "  new_number = numbers[-1] + 1\n",
    "  numbers.append(new_number)\n",
    "print(numbers)\n"
   ]
  },
  {
   "cell_type": "markdown",
   "id": "f0f1444f",
   "metadata": {},
   "source": [
    "Write a program that accepts a 2D list of zeros. Print the 2D list in rows and columns without the square brackets and commas. Moving diagonally from the top-left to the bottom right, replace each 0 with a 1. The IDE already declares the variable number and the 2D list data. Use number to represent the number of rows and columns, and data to represent the 2D list of zeros."
   ]
  },
  {
   "cell_type": "code",
   "execution_count": 10,
   "id": "e0d70e67",
   "metadata": {},
   "outputs": [],
   "source": [
    "number = 10\n",
    "data = [[0 for i in range(number)] for j in range(number)]"
   ]
  },
  {
   "cell_type": "code",
   "execution_count": 11,
   "id": "10121815",
   "metadata": {},
   "outputs": [
    {
     "name": "stdout",
     "output_type": "stream",
     "text": [
      "1 0 0 0 0 0 0 0 0 0 \n",
      "0 1 0 0 0 0 0 0 0 0 \n",
      "0 0 1 0 0 0 0 0 0 0 \n",
      "0 0 0 1 0 0 0 0 0 0 \n",
      "0 0 0 0 1 0 0 0 0 0 \n",
      "0 0 0 0 0 1 0 0 0 0 \n",
      "0 0 0 0 0 0 1 0 0 0 \n",
      "0 0 0 0 0 0 0 1 0 0 \n",
      "0 0 0 0 0 0 0 0 1 0 \n",
      "0 0 0 0 0 0 0 0 0 1 \n"
     ]
    }
   ],
   "source": [
    "for row in range(number):\n",
    "  for column in range(number):\n",
    "    if row == column:\n",
    "      data[row][column] = 1\n",
    "    print(f\"{data[row][column]} \", end=\"\")\n",
    "  print()\n"
   ]
  },
  {
   "cell_type": "code",
   "execution_count": null,
   "id": "50b939ef",
   "metadata": {},
   "outputs": [],
   "source": []
  }
 ],
 "metadata": {
  "kernelspec": {
   "display_name": "Python 3 (ipykernel)",
   "language": "python",
   "name": "python3"
  },
  "language_info": {
   "codemirror_mode": {
    "name": "ipython",
    "version": 3
   },
   "file_extension": ".py",
   "mimetype": "text/x-python",
   "name": "python",
   "nbconvert_exporter": "python",
   "pygments_lexer": "ipython3",
   "version": "3.9.12"
  }
 },
 "nbformat": 4,
 "nbformat_minor": 5
}
