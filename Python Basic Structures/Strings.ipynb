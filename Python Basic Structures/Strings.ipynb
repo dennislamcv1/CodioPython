{
 "cells": [
  {
   "cell_type": "markdown",
   "id": "041cb516",
   "metadata": {},
   "source": [
    "Write a program that takes input from a user and prints the first character of the input and the last character with some context. Important, do not put a prompt when asking for user input. Just use input(). Adding a prompt will cause your program to not pass the tests."
   ]
  },
  {
   "cell_type": "code",
   "execution_count": 1,
   "id": "953d90d0",
   "metadata": {},
   "outputs": [
    {
     "name": "stdout",
     "output_type": "stream",
     "text": [
      "Dennis\n",
      "D is the first character and s is the last character\n"
     ]
    }
   ],
   "source": [
    "txt = input()\n",
    "first = txt[0]\n",
    "last = txt[-1]\n",
    "print(\"{} is the first character and {} is the last character\".format(first, last))\n"
   ]
  },
  {
   "cell_type": "markdown",
   "id": "d92b12df",
   "metadata": {},
   "source": [
    "Write a program that captures text from the user. Print the user string as many times as its length. Print as many lines of this as the length of the user input. Important, do not put a prompt when asking for user input. Just use input(). Adding a prompt will cause your program to not pass the tests."
   ]
  },
  {
   "cell_type": "code",
   "execution_count": 2,
   "id": "9ec47a14",
   "metadata": {},
   "outputs": [
    {
     "name": "stdout",
     "output_type": "stream",
     "text": [
      "cat\n",
      "catcatcat\n",
      "catcatcat\n",
      "catcatcat\n"
     ]
    }
   ],
   "source": [
    "txt = input()\n",
    "for i in range(len(txt)):\n",
    "    print(txt * len(txt))\n"
   ]
  },
  {
   "cell_type": "markdown",
   "id": "00ff6fe8",
   "metadata": {},
   "source": [
    "Write a program that accepts input from the user. Create another string that contains either a u, l, or - for each character of the original string. Use u when the character is uppercase, and use l when the character is lowercase. If the character is neither uppercase or lowercase, use -. Print the second string. Important, do not put a prompt when asking for user input. Just use input(). Adding a prompt will cause your program to not pass the tests."
   ]
  },
  {
   "cell_type": "code",
   "execution_count": 3,
   "id": "da2c5466",
   "metadata": {},
   "outputs": [
    {
     "name": "stdout",
     "output_type": "stream",
     "text": [
      "cat\n",
      "lll\n"
     ]
    }
   ],
   "source": [
    "txt = input()\n",
    "second_string = \"\"\n",
    "for char in txt:\n",
    "    if char.islower():\n",
    "        second_string += \"l\"\n",
    "    elif char.isupper():\n",
    "        second_string += \"u\"\n",
    "    else:\n",
    "        second_string += \"-\"\n",
    "\n",
    "print(second_string)\n"
   ]
  },
  {
   "cell_type": "markdown",
   "id": "ad0c8cbc",
   "metadata": {},
   "source": [
    "Write a program that takes input from a user. Print the first half of the string on one line, and the second half on another. In the case of a string that has an odd number of characters, the second line will have the extra character. Important, do not put a prompt when asking for user input. Just use input(). Adding a prompt will cause your program to not pass the tests."
   ]
  },
  {
   "cell_type": "code",
   "execution_count": 4,
   "id": "312699fd",
   "metadata": {},
   "outputs": [
    {
     "name": "stdout",
     "output_type": "stream",
     "text": [
      "home\n",
      "ho\n",
      "me\n"
     ]
    }
   ],
   "source": [
    "txt = input()\n",
    "midpoint = len(txt) // 2\n",
    "first_half = txt[:midpoint]\n",
    "second_half = txt[midpoint:]\n",
    "print(first_half)\n",
    "print(second_half)\n"
   ]
  },
  {
   "cell_type": "markdown",
   "id": "5e90f503",
   "metadata": {},
   "source": [
    "Write a program that captures input from the user. Then, swap the letters two at a time in the string. The first two characters change places, the third and fourth characters change places, etc. Assume that the user will only input strings with an even number of characters. Important, do not put a prompt when asking for user input. Just use input(). Adding a prompt will cause your program to not pass the tests."
   ]
  },
  {
   "cell_type": "code",
   "execution_count": 6,
   "id": "d77d763e",
   "metadata": {},
   "outputs": [
    {
     "name": "stdout",
     "output_type": "stream",
     "text": [
      "home\n",
      "ohem\n"
     ]
    }
   ],
   "source": [
    "txt = input()\n",
    "length = len(txt)\n",
    "swapped_string = \"\"\n",
    "\n",
    "for i in range(0, length - 1, 2):\n",
    "    swapped_string += txt[i + 1]\n",
    "    swapped_string += txt[i]\n",
    "\n",
    "print(swapped_string)\n"
   ]
  },
  {
   "cell_type": "code",
   "execution_count": null,
   "id": "d0871796",
   "metadata": {},
   "outputs": [],
   "source": []
  }
 ],
 "metadata": {
  "kernelspec": {
   "display_name": "Python 3 (ipykernel)",
   "language": "python",
   "name": "python3"
  },
  "language_info": {
   "codemirror_mode": {
    "name": "ipython",
    "version": 3
   },
   "file_extension": ".py",
   "mimetype": "text/x-python",
   "name": "python",
   "nbconvert_exporter": "python",
   "pygments_lexer": "ipython3",
   "version": "3.9.12"
  }
 },
 "nbformat": 4,
 "nbformat_minor": 5
}
